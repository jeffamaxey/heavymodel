{
  "nbformat": 4,
  "nbformat_minor": 0,
  "metadata": {
    "colab": {
      "name": "HeavyModel Example.ipynb",
      "provenance": [],
      "toc_visible": true,
      "authorship_tag": "ABX9TyOfKXEDbGal3dTUxdj5ZK0W",
      "include_colab_link": true
    },
    "kernelspec": {
      "name": "python3",
      "display_name": "Python 3"
    }
  },
  "cells": [
    {
      "cell_type": "markdown",
      "metadata": {
        "id": "view-in-github",
        "colab_type": "text"
      },
      "source": [
        "<a href=\"https://colab.research.google.com/github/lewisfogden/heavymodel/blob/core-updates/example_models/HeavyModel_Example.ipynb\" target=\"_parent\"><img src=\"https://colab.research.google.com/assets/colab-badge.svg\" alt=\"Open In Colab\"/></a>"
      ]
    },
    {
      "cell_type": "markdown",
      "metadata": {
        "id": "5oubEpgxtlb9",
        "colab_type": "text"
      },
      "source": [
        "# Heavymodel Example\n",
        "\n",
        "This notebook contains a working example of using heavymodel.  See https://digitalactuary.co.uk for details of heavymodel."
      ]
    },
    {
      "cell_type": "markdown",
      "metadata": {
        "id": "hQFCR841xWrJ",
        "colab_type": "text"
      },
      "source": [
        "### 1: Install `heavymodel` from PyPI"
      ]
    },
    {
      "cell_type": "code",
      "metadata": {
        "id": "ZkIU2f0fZ3JE",
        "colab_type": "code",
        "outputId": "0f7cc558-d460-4018-c006-11c79e18c677",
        "colab": {
          "base_uri": "https://localhost:8080/",
          "height": 35
        }
      },
      "source": [
        "%pip install heavymodel-lewisfogden"
      ],
      "execution_count": 1,
      "outputs": [
        {
          "output_type": "stream",
          "text": [
            "Requirement already satisfied: heavymodel-lewisfogden in /usr/local/lib/python3.6/dist-packages (0.0.2)\n"
          ],
          "name": "stdout"
        }
      ]
    },
    {
      "cell_type": "markdown",
      "metadata": {
        "id": "0t2rBRuItv2M",
        "colab_type": "text"
      },
      "source": [
        "### 2: Import the `Model` class from `heavymodel`"
      ]
    },
    {
      "cell_type": "code",
      "metadata": {
        "id": "R-ldmSdWaCeG",
        "colab_type": "code",
        "colab": {}
      },
      "source": [
        "from heavymodel import Model"
      ],
      "execution_count": 0,
      "outputs": []
    },
    {
      "cell_type": "markdown",
      "metadata": {
        "id": "w6MQk1Vkt-ij",
        "colab_type": "text"
      },
      "source": [
        "### 3: Define the user model as a subclass of Model"
      ]
    },
    {
      "cell_type": "code",
      "metadata": {
        "id": "WdZa_f9NbW_A",
        "colab_type": "code",
        "colab": {}
      },
      "source": [
        "class DemographicModel(Model):\n",
        "  def num_pols(self, t):\n",
        "    if t == 0:\n",
        "      return 1\n",
        "    else:\n",
        "      return self.num_pols(t-1) - self.num_lapses(t-1) - self.num_claims(t-1)\n",
        "  \n",
        "  def num_lapses(self, t):\n",
        "    return self.lapse_rate * self.num_pols(t)\n",
        "  \n",
        "  def num_claims(self, t):\n",
        "    return self.claim_rate * self.num_pols(t)"
      ],
      "execution_count": 0,
      "outputs": []
    },
    {
      "cell_type": "markdown",
      "metadata": {
        "id": "i7ovjYQGuH35",
        "colab_type": "text"
      },
      "source": [
        "### 4: Create an instance of the model and run it"
      ]
    },
    {
      "cell_type": "code",
      "metadata": {
        "id": "9sqrUJlggemM",
        "colab_type": "code",
        "colab": {}
      },
      "source": [
        "proj = DemographicModel({\"lapse_rate\":0.04, \"claim_rate\":0.07})"
      ],
      "execution_count": 0,
      "outputs": []
    },
    {
      "cell_type": "code",
      "metadata": {
        "id": "0U5aX5Ztg8Mp",
        "colab_type": "code",
        "colab": {}
      },
      "source": [
        "proj._run(50)"
      ],
      "execution_count": 0,
      "outputs": []
    },
    {
      "cell_type": "markdown",
      "metadata": {
        "id": "XrMDtxtQuNGW",
        "colab_type": "text"
      },
      "source": [
        "### 5: Export results to a dataframe, review and plot."
      ]
    },
    {
      "cell_type": "code",
      "metadata": {
        "id": "KZvjfO5nhCAQ",
        "colab_type": "code",
        "outputId": "b46b3f8b-04f0-489c-b7ab-2c0db1da244e",
        "colab": {
          "base_uri": "https://localhost:8080/",
          "height": 206
        }
      },
      "source": [
        "results = proj._dataframe()\n",
        "results.tail()"
      ],
      "execution_count": 24,
      "outputs": [
        {
          "output_type": "execute_result",
          "data": {
            "text/html": [
              "<div>\n",
              "<style scoped>\n",
              "    .dataframe tbody tr th:only-of-type {\n",
              "        vertical-align: middle;\n",
              "    }\n",
              "\n",
              "    .dataframe tbody tr th {\n",
              "        vertical-align: top;\n",
              "    }\n",
              "\n",
              "    .dataframe thead th {\n",
              "        text-align: right;\n",
              "    }\n",
              "</style>\n",
              "<table border=\"1\" class=\"dataframe\">\n",
              "  <thead>\n",
              "    <tr style=\"text-align: right;\">\n",
              "      <th></th>\n",
              "      <th>num_claims</th>\n",
              "      <th>num_lapses</th>\n",
              "      <th>num_pols</th>\n",
              "    </tr>\n",
              "  </thead>\n",
              "  <tbody>\n",
              "    <tr>\n",
              "      <th>45</th>\n",
              "      <td>0.000370</td>\n",
              "      <td>0.000211</td>\n",
              "      <td>0.005279</td>\n",
              "    </tr>\n",
              "    <tr>\n",
              "      <th>46</th>\n",
              "      <td>0.000329</td>\n",
              "      <td>0.000188</td>\n",
              "      <td>0.004698</td>\n",
              "    </tr>\n",
              "    <tr>\n",
              "      <th>47</th>\n",
              "      <td>0.000293</td>\n",
              "      <td>0.000167</td>\n",
              "      <td>0.004181</td>\n",
              "    </tr>\n",
              "    <tr>\n",
              "      <th>48</th>\n",
              "      <td>0.000261</td>\n",
              "      <td>0.000149</td>\n",
              "      <td>0.003722</td>\n",
              "    </tr>\n",
              "    <tr>\n",
              "      <th>49</th>\n",
              "      <td>0.000232</td>\n",
              "      <td>0.000132</td>\n",
              "      <td>0.003312</td>\n",
              "    </tr>\n",
              "  </tbody>\n",
              "</table>\n",
              "</div>"
            ],
            "text/plain": [
              "    num_claims  num_lapses  num_pols\n",
              "45    0.000370    0.000211  0.005279\n",
              "46    0.000329    0.000188  0.004698\n",
              "47    0.000293    0.000167  0.004181\n",
              "48    0.000261    0.000149  0.003722\n",
              "49    0.000232    0.000132  0.003312"
            ]
          },
          "metadata": {
            "tags": []
          },
          "execution_count": 24
        }
      ]
    },
    {
      "cell_type": "code",
      "metadata": {
        "id": "tTvS-vETtStd",
        "colab_type": "code",
        "colab": {
          "base_uri": "https://localhost:8080/",
          "height": 265
        },
        "outputId": "22903a15-a485-491d-9f8d-9a84bd72be4d"
      },
      "source": [
        "results.plot();"
      ],
      "execution_count": 25,
      "outputs": [
        {
          "output_type": "display_data",
          "data": {
            "image/png": "[encoded data removed]",
            "text/plain": [
              "<Figure size 432x288 with 1 Axes>"
            ]
          },
          "metadata": {
            "tags": [],
            "needs_background": "light"
          }
        }
      ]
    },
    {
      "cell_type": "markdown",
      "metadata": {
        "id": "bHyasIfaufTJ",
        "colab_type": "text"
      },
      "source": [
        "### 6: Create a subclass using the existing model"
      ]
    },
    {
      "cell_type": "code",
      "metadata": {
        "id": "dsAeAVettbiq",
        "colab_type": "code",
        "colab": {}
      },
      "source": [
        "class LifeAssurance(DemographicModel):\n",
        "  def premiums(self, t):\n",
        "    if t >= 0:\n",
        "      return self.annual_premium * self.num_pols(t)\n",
        "    else:\n",
        "      return 0\n",
        "  \n",
        "  def claims(self, t):\n",
        "    if t >= 0:\n",
        "      return self.sum_assured * self.num_claims(t)"
      ],
      "execution_count": 0,
      "outputs": []
    },
    {
      "cell_type": "markdown",
      "metadata": {
        "id": "saDNOCpFw-Fb",
        "colab_type": "text"
      },
      "source": [
        "### 7: Create an instance & project it\n",
        "\n",
        "Here we have specified the assumption basis separately from the data."
      ]
    },
    {
      "cell_type": "code",
      "metadata": {
        "id": "dfcY5zj0vn-3",
        "colab_type": "code",
        "colab": {}
      },
      "source": [
        "basis = {\"lapse_rate\":0.04, \"claim_rate\":0.07}\n",
        "data = {\"annual_premium\":5000, \"sum_assured\":100_000}\n",
        "life_pol = LifeAssurance(basis, data)"
      ],
      "execution_count": 0,
      "outputs": []
    },
    {
      "cell_type": "code",
      "metadata": {
        "id": "WfxF1wCBv55y",
        "colab_type": "code",
        "colab": {}
      },
      "source": [
        "life_pol._run(100)"
      ],
      "execution_count": 0,
      "outputs": []
    },
    {
      "cell_type": "markdown",
      "metadata": {
        "id": "x-81GFiexJSi",
        "colab_type": "text"
      },
      "source": [
        "### 8: Convert to pandas dataframe and plot"
      ]
    },
    {
      "cell_type": "code",
      "metadata": {
        "id": "lk0ut-90v8a7",
        "colab_type": "code",
        "colab": {
          "base_uri": "https://localhost:8080/",
          "height": 206
        },
        "outputId": "909d2ce6-d0b6-4ba8-a411-3b9f97f961d8"
      },
      "source": [
        "results = life_pol._dataframe()\n",
        "results.head()"
      ],
      "execution_count": 49,
      "outputs": [
        {
          "output_type": "execute_result",
          "data": {
            "text/html": [
              "<div>\n",
              "<style scoped>\n",
              "    .dataframe tbody tr th:only-of-type {\n",
              "        vertical-align: middle;\n",
              "    }\n",
              "\n",
              "    .dataframe tbody tr th {\n",
              "        vertical-align: top;\n",
              "    }\n",
              "\n",
              "    .dataframe thead th {\n",
              "        text-align: right;\n",
              "    }\n",
              "</style>\n",
              "<table border=\"1\" class=\"dataframe\">\n",
              "  <thead>\n",
              "    <tr style=\"text-align: right;\">\n",
              "      <th></th>\n",
              "      <th>claims</th>\n",
              "      <th>num_claims</th>\n",
              "      <th>num_lapses</th>\n",
              "      <th>num_pols</th>\n",
              "      <th>premiums</th>\n",
              "    </tr>\n",
              "  </thead>\n",
              "  <tbody>\n",
              "    <tr>\n",
              "      <th>0</th>\n",
              "      <td>7000.00000</td>\n",
              "      <td>0.070000</td>\n",
              "      <td>0.040000</td>\n",
              "      <td>1.000000</td>\n",
              "      <td>5000.00000</td>\n",
              "    </tr>\n",
              "    <tr>\n",
              "      <th>1</th>\n",
              "      <td>6230.00000</td>\n",
              "      <td>0.062300</td>\n",
              "      <td>0.035600</td>\n",
              "      <td>0.890000</td>\n",
              "      <td>4450.00000</td>\n",
              "    </tr>\n",
              "    <tr>\n",
              "      <th>2</th>\n",
              "      <td>5544.70000</td>\n",
              "      <td>0.055447</td>\n",
              "      <td>0.031684</td>\n",
              "      <td>0.792100</td>\n",
              "      <td>3960.50000</td>\n",
              "    </tr>\n",
              "    <tr>\n",
              "      <th>3</th>\n",
              "      <td>4934.78300</td>\n",
              "      <td>0.049348</td>\n",
              "      <td>0.028199</td>\n",
              "      <td>0.704969</td>\n",
              "      <td>3524.84500</td>\n",
              "    </tr>\n",
              "    <tr>\n",
              "      <th>4</th>\n",
              "      <td>4391.95687</td>\n",
              "      <td>0.043920</td>\n",
              "      <td>0.025097</td>\n",
              "      <td>0.627422</td>\n",
              "      <td>3137.11205</td>\n",
              "    </tr>\n",
              "  </tbody>\n",
              "</table>\n",
              "</div>"
            ],
            "text/plain": [
              "       claims  num_claims  num_lapses  num_pols    premiums\n",
              "0  7000.00000    0.070000    0.040000  1.000000  5000.00000\n",
              "1  6230.00000    0.062300    0.035600  0.890000  4450.00000\n",
              "2  5544.70000    0.055447    0.031684  0.792100  3960.50000\n",
              "3  4934.78300    0.049348    0.028199  0.704969  3524.84500\n",
              "4  4391.95687    0.043920    0.025097  0.627422  3137.11205"
            ]
          },
          "metadata": {
            "tags": []
          },
          "execution_count": 49
        }
      ]
    },
    {
      "cell_type": "code",
      "metadata": {
        "id": "ePEFlXIAwCpK",
        "colab_type": "code",
        "colab": {
          "base_uri": "https://localhost:8080/",
          "height": 265
        },
        "outputId": "78f5f077-de67-48bb-8ff5-db0f152acfe8"
      },
      "source": [
        "ax = results.plot(y=\"premiums\")\n",
        "results.plot(y=\"claims\", ax=ax);"
      ],
      "execution_count": 50,
      "outputs": [
        {
          "output_type": "display_data",
          "data": {
            "image/png": "[encoded data removed]",
            "text/plain": [
              "<Figure size 432x288 with 1 Axes>"
            ]
          },
          "metadata": {
            "tags": [],
            "needs_background": "light"
          }
        }
      ]
    },
    {
      "cell_type": "code",
      "metadata": {
        "id": "H4G0R5Nfwa_i",
        "colab_type": "code",
        "colab": {}
      },
      "source": [
        ""
      ],
      "execution_count": 0,
      "outputs": []
    }
  ]
}